{
 "cells": [
  {
   "cell_type": "code",
   "execution_count": 111,
   "metadata": {},
   "outputs": [],
   "source": [
    "from sklearn.model_selection import train_test_split, GridSearchCV\n",
    "from sklearn.preprocessing import LabelEncoder, StandardScaler\n",
    "from sklearn.linear_model import LogisticRegression\n",
    "from sklearn.svm import SVC\n",
    "from sklearn.neural_network import MLPClassifier\n",
    "from sklearn.metrics import accuracy_score, classification_report, confusion_matrix\n",
    "import matplotlib.pyplot as plt\n",
    "import seaborn as sns\n",
    "import pandas as pd"
   ]
  },
  {
   "cell_type": "markdown",
   "metadata": {},
   "source": [
    "## Step 1: Data Exploration"
   ]
  },
  {
   "cell_type": "code",
   "execution_count": 112,
   "metadata": {},
   "outputs": [
    {
     "data": {
      "text/html": [
       "<div>\n",
       "<style scoped>\n",
       "    .dataframe tbody tr th:only-of-type {\n",
       "        vertical-align: middle;\n",
       "    }\n",
       "\n",
       "    .dataframe tbody tr th {\n",
       "        vertical-align: top;\n",
       "    }\n",
       "\n",
       "    .dataframe thead th {\n",
       "        text-align: right;\n",
       "    }\n",
       "</style>\n",
       "<table border=\"1\" class=\"dataframe\">\n",
       "  <thead>\n",
       "    <tr style=\"text-align: right;\">\n",
       "      <th></th>\n",
       "      <th>Unnamed: 0</th>\n",
       "      <th>Adm_Year</th>\n",
       "      <th>Gender</th>\n",
       "      <th>Age</th>\n",
       "      <th>HSC_Pass_Year</th>\n",
       "      <th>Program</th>\n",
       "      <th>Merit_Scholarship</th>\n",
       "      <th>Uni_Transport</th>\n",
       "      <th>Learn_Mode</th>\n",
       "      <th>Smartphone</th>\n",
       "      <th>...</th>\n",
       "      <th>SM_Hours1</th>\n",
       "      <th>Avg_Attendance1</th>\n",
       "      <th>Skills1</th>\n",
       "      <th>Skill_Dev_Hours1</th>\n",
       "      <th>Interest_Area1</th>\n",
       "      <th>Prev_SGPA1</th>\n",
       "      <th>Curr_CGPA1</th>\n",
       "      <th>Completed_Credits1</th>\n",
       "      <th>Diploma</th>\n",
       "      <th>Family_Income1</th>\n",
       "    </tr>\n",
       "  </thead>\n",
       "  <tbody>\n",
       "    <tr>\n",
       "      <th>498</th>\n",
       "      <td>678</td>\n",
       "      <td>2021.0</td>\n",
       "      <td>Female</td>\n",
       "      <td>21.0</td>\n",
       "      <td>2019.0</td>\n",
       "      <td>BCSE</td>\n",
       "      <td>Yes</td>\n",
       "      <td>No</td>\n",
       "      <td>Offline</td>\n",
       "      <td>Yes</td>\n",
       "      <td>...</td>\n",
       "      <td>2.0</td>\n",
       "      <td>90.0</td>\n",
       "      <td>Programming</td>\n",
       "      <td>1.0</td>\n",
       "      <td>Software</td>\n",
       "      <td>3.38</td>\n",
       "      <td>3.53</td>\n",
       "      <td>24.0</td>\n",
       "      <td>False</td>\n",
       "      <td>40000.0</td>\n",
       "    </tr>\n",
       "    <tr>\n",
       "      <th>173</th>\n",
       "      <td>326</td>\n",
       "      <td>2021.0</td>\n",
       "      <td>Male</td>\n",
       "      <td>22.0</td>\n",
       "      <td>2020.0</td>\n",
       "      <td>BCSE</td>\n",
       "      <td>Yes</td>\n",
       "      <td>No</td>\n",
       "      <td>Offline</td>\n",
       "      <td>Yes</td>\n",
       "      <td>...</td>\n",
       "      <td>15.0</td>\n",
       "      <td>80.0</td>\n",
       "      <td>Programming</td>\n",
       "      <td>0.0</td>\n",
       "      <td>Software</td>\n",
       "      <td>1.53</td>\n",
       "      <td>2.43</td>\n",
       "      <td>23.0</td>\n",
       "      <td>False</td>\n",
       "      <td>30000.0</td>\n",
       "    </tr>\n",
       "    <tr>\n",
       "      <th>550</th>\n",
       "      <td>735</td>\n",
       "      <td>2020.0</td>\n",
       "      <td>Male</td>\n",
       "      <td>22.0</td>\n",
       "      <td>2019.0</td>\n",
       "      <td>BCSE</td>\n",
       "      <td>No</td>\n",
       "      <td>No</td>\n",
       "      <td>Offline</td>\n",
       "      <td>Yes</td>\n",
       "      <td>...</td>\n",
       "      <td>2.0</td>\n",
       "      <td>95.0</td>\n",
       "      <td>Programming, Web development</td>\n",
       "      <td>2.0</td>\n",
       "      <td>Data Science</td>\n",
       "      <td>3.20</td>\n",
       "      <td>3.51</td>\n",
       "      <td>80.0</td>\n",
       "      <td>False</td>\n",
       "      <td>100000.0</td>\n",
       "    </tr>\n",
       "    <tr>\n",
       "      <th>768</th>\n",
       "      <td>953</td>\n",
       "      <td>2021.0</td>\n",
       "      <td>Female</td>\n",
       "      <td>20.0</td>\n",
       "      <td>2021.0</td>\n",
       "      <td>BCSE</td>\n",
       "      <td>Yes</td>\n",
       "      <td>No</td>\n",
       "      <td>Offline</td>\n",
       "      <td>Yes</td>\n",
       "      <td>...</td>\n",
       "      <td>2.0</td>\n",
       "      <td>100.0</td>\n",
       "      <td>Networking</td>\n",
       "      <td>1.0</td>\n",
       "      <td>Hardware</td>\n",
       "      <td>2.66</td>\n",
       "      <td>3.83</td>\n",
       "      <td>102.0</td>\n",
       "      <td>False</td>\n",
       "      <td>60000.0</td>\n",
       "    </tr>\n",
       "    <tr>\n",
       "      <th>750</th>\n",
       "      <td>935</td>\n",
       "      <td>2020.0</td>\n",
       "      <td>Female</td>\n",
       "      <td>23.0</td>\n",
       "      <td>2019.0</td>\n",
       "      <td>BCSE</td>\n",
       "      <td>No</td>\n",
       "      <td>No</td>\n",
       "      <td>Offline</td>\n",
       "      <td>Yes</td>\n",
       "      <td>...</td>\n",
       "      <td>7.0</td>\n",
       "      <td>100.0</td>\n",
       "      <td>Programming</td>\n",
       "      <td>2.0</td>\n",
       "      <td>Software</td>\n",
       "      <td>1.99</td>\n",
       "      <td>3.00</td>\n",
       "      <td>121.0</td>\n",
       "      <td>False</td>\n",
       "      <td>55000.0</td>\n",
       "    </tr>\n",
       "  </tbody>\n",
       "</table>\n",
       "<p>5 rows × 34 columns</p>\n",
       "</div>"
      ],
      "text/plain": [
       "     Unnamed: 0  Adm_Year  Gender   Age  HSC_Pass_Year Program  \\\n",
       "498         678    2021.0  Female  21.0         2019.0    BCSE   \n",
       "173         326    2021.0    Male  22.0         2020.0    BCSE   \n",
       "550         735    2020.0    Male  22.0         2019.0    BCSE   \n",
       "768         953    2021.0  Female  20.0         2021.0    BCSE   \n",
       "750         935    2020.0  Female  23.0         2019.0    BCSE   \n",
       "\n",
       "    Merit_Scholarship Uni_Transport Learn_Mode Smartphone  ... SM_Hours1  \\\n",
       "498               Yes            No    Offline        Yes  ...       2.0   \n",
       "173               Yes            No    Offline        Yes  ...      15.0   \n",
       "550                No            No    Offline        Yes  ...       2.0   \n",
       "768               Yes            No    Offline        Yes  ...       2.0   \n",
       "750                No            No    Offline        Yes  ...       7.0   \n",
       "\n",
       "    Avg_Attendance1                       Skills1 Skill_Dev_Hours1  \\\n",
       "498            90.0                   Programming              1.0   \n",
       "173            80.0                   Programming              0.0   \n",
       "550            95.0  Programming, Web development              2.0   \n",
       "768           100.0                    Networking              1.0   \n",
       "750           100.0                   Programming              2.0   \n",
       "\n",
       "    Interest_Area1 Prev_SGPA1 Curr_CGPA1 Completed_Credits1 Diploma  \\\n",
       "498       Software       3.38       3.53               24.0   False   \n",
       "173       Software       1.53       2.43               23.0   False   \n",
       "550   Data Science       3.20       3.51               80.0   False   \n",
       "768       Hardware       2.66       3.83              102.0   False   \n",
       "750       Software       1.99       3.00              121.0   False   \n",
       "\n",
       "    Family_Income1  \n",
       "498        40000.0  \n",
       "173        30000.0  \n",
       "550       100000.0  \n",
       "768        60000.0  \n",
       "750        55000.0  \n",
       "\n",
       "[5 rows x 34 columns]"
      ]
     },
     "execution_count": 112,
     "metadata": {},
     "output_type": "execute_result"
    }
   ],
   "source": [
    "data = pd.read_csv('performance.csv')\n",
    "data.sample(5)"
   ]
  },
  {
   "cell_type": "code",
   "execution_count": 113,
   "metadata": {},
   "outputs": [
    {
     "data": {
      "text/plain": [
       "(1009, 34)"
      ]
     },
     "execution_count": 113,
     "metadata": {},
     "output_type": "execute_result"
    }
   ],
   "source": [
    "data.shape"
   ]
  },
  {
   "cell_type": "code",
   "execution_count": 114,
   "metadata": {},
   "outputs": [
    {
     "data": {
      "text/html": [
       "<div>\n",
       "<style scoped>\n",
       "    .dataframe tbody tr th:only-of-type {\n",
       "        vertical-align: middle;\n",
       "    }\n",
       "\n",
       "    .dataframe tbody tr th {\n",
       "        vertical-align: top;\n",
       "    }\n",
       "\n",
       "    .dataframe thead th {\n",
       "        text-align: right;\n",
       "    }\n",
       "</style>\n",
       "<table border=\"1\" class=\"dataframe\">\n",
       "  <thead>\n",
       "    <tr style=\"text-align: right;\">\n",
       "      <th></th>\n",
       "      <th>Target</th>\n",
       "    </tr>\n",
       "  </thead>\n",
       "  <tbody>\n",
       "    <tr>\n",
       "      <th>0</th>\n",
       "      <td>Good</td>\n",
       "    </tr>\n",
       "    <tr>\n",
       "      <th>1</th>\n",
       "      <td>Good</td>\n",
       "    </tr>\n",
       "    <tr>\n",
       "      <th>2</th>\n",
       "      <td>Good</td>\n",
       "    </tr>\n",
       "    <tr>\n",
       "      <th>3</th>\n",
       "      <td>Average</td>\n",
       "    </tr>\n",
       "    <tr>\n",
       "      <th>4</th>\n",
       "      <td>Good</td>\n",
       "    </tr>\n",
       "    <tr>\n",
       "      <th>5</th>\n",
       "      <td>Average</td>\n",
       "    </tr>\n",
       "    <tr>\n",
       "      <th>6</th>\n",
       "      <td>Excellent</td>\n",
       "    </tr>\n",
       "    <tr>\n",
       "      <th>7</th>\n",
       "      <td>Good</td>\n",
       "    </tr>\n",
       "    <tr>\n",
       "      <th>8</th>\n",
       "      <td>Good</td>\n",
       "    </tr>\n",
       "    <tr>\n",
       "      <th>9</th>\n",
       "      <td>Good</td>\n",
       "    </tr>\n",
       "  </tbody>\n",
       "</table>\n",
       "</div>"
      ],
      "text/plain": [
       "      Target\n",
       "0       Good\n",
       "1       Good\n",
       "2       Good\n",
       "3    Average\n",
       "4       Good\n",
       "5    Average\n",
       "6  Excellent\n",
       "7       Good\n",
       "8       Good\n",
       "9       Good"
      ]
     },
     "execution_count": 114,
     "metadata": {},
     "output_type": "execute_result"
    }
   ],
   "source": [
    "data[['Target']].head(10)"
   ]
  },
  {
   "cell_type": "code",
   "execution_count": 115,
   "metadata": {},
   "outputs": [
    {
     "data": {
      "text/plain": [
       "array(['Good', 'Average', 'Excellent', 'Poor'], dtype=object)"
      ]
     },
     "execution_count": 115,
     "metadata": {},
     "output_type": "execute_result"
    }
   ],
   "source": [
    "unique_target_values = data['Target'].unique()\n",
    "unique_target_values"
   ]
  },
  {
   "cell_type": "markdown",
   "metadata": {},
   "source": [
    "## Step 2: Data Preprocessing"
   ]
  },
  {
   "cell_type": "code",
   "execution_count": 116,
   "metadata": {},
   "outputs": [
    {
     "data": {
      "text/html": [
       "<div>\n",
       "<style scoped>\n",
       "    .dataframe tbody tr th:only-of-type {\n",
       "        vertical-align: middle;\n",
       "    }\n",
       "\n",
       "    .dataframe tbody tr th {\n",
       "        vertical-align: top;\n",
       "    }\n",
       "\n",
       "    .dataframe thead th {\n",
       "        text-align: right;\n",
       "    }\n",
       "</style>\n",
       "<table border=\"1\" class=\"dataframe\">\n",
       "  <thead>\n",
       "    <tr style=\"text-align: right;\">\n",
       "      <th></th>\n",
       "      <th>Target</th>\n",
       "    </tr>\n",
       "  </thead>\n",
       "  <tbody>\n",
       "    <tr>\n",
       "      <th>0</th>\n",
       "      <td>2</td>\n",
       "    </tr>\n",
       "    <tr>\n",
       "      <th>1</th>\n",
       "      <td>2</td>\n",
       "    </tr>\n",
       "    <tr>\n",
       "      <th>2</th>\n",
       "      <td>2</td>\n",
       "    </tr>\n",
       "    <tr>\n",
       "      <th>3</th>\n",
       "      <td>0</td>\n",
       "    </tr>\n",
       "    <tr>\n",
       "      <th>4</th>\n",
       "      <td>2</td>\n",
       "    </tr>\n",
       "    <tr>\n",
       "      <th>5</th>\n",
       "      <td>0</td>\n",
       "    </tr>\n",
       "    <tr>\n",
       "      <th>6</th>\n",
       "      <td>1</td>\n",
       "    </tr>\n",
       "    <tr>\n",
       "      <th>7</th>\n",
       "      <td>2</td>\n",
       "    </tr>\n",
       "    <tr>\n",
       "      <th>8</th>\n",
       "      <td>2</td>\n",
       "    </tr>\n",
       "    <tr>\n",
       "      <th>9</th>\n",
       "      <td>2</td>\n",
       "    </tr>\n",
       "  </tbody>\n",
       "</table>\n",
       "</div>"
      ],
      "text/plain": [
       "   Target\n",
       "0       2\n",
       "1       2\n",
       "2       2\n",
       "3       0\n",
       "4       2\n",
       "5       0\n",
       "6       1\n",
       "7       2\n",
       "8       2\n",
       "9       2"
      ]
     },
     "execution_count": 116,
     "metadata": {},
     "output_type": "execute_result"
    }
   ],
   "source": [
    "# Encode the target variable\n",
    "label_encoder = LabelEncoder()\n",
    "data['Target'] = label_encoder.fit_transform(data['Target'])  # 0: Poor, 1: Average, 2: Good, 3: Excellent\n",
    "class_names = ['Poor', 'Average', 'Good', 'Excellent']\n",
    "class_names = label_encoder.classes_\n",
    "data[['Target']].head(10)"
   ]
  },
  {
   "cell_type": "code",
   "execution_count": 117,
   "metadata": {},
   "outputs": [
    {
     "data": {
      "text/html": [
       "<div>\n",
       "<style scoped>\n",
       "    .dataframe tbody tr th:only-of-type {\n",
       "        vertical-align: middle;\n",
       "    }\n",
       "\n",
       "    .dataframe tbody tr th {\n",
       "        vertical-align: top;\n",
       "    }\n",
       "\n",
       "    .dataframe thead th {\n",
       "        text-align: right;\n",
       "    }\n",
       "</style>\n",
       "<table border=\"1\" class=\"dataframe\">\n",
       "  <thead>\n",
       "    <tr style=\"text-align: right;\">\n",
       "      <th></th>\n",
       "      <th>Class</th>\n",
       "      <th>Count</th>\n",
       "    </tr>\n",
       "  </thead>\n",
       "  <tbody>\n",
       "    <tr>\n",
       "      <th>0</th>\n",
       "      <td>Average</td>\n",
       "      <td>272</td>\n",
       "    </tr>\n",
       "    <tr>\n",
       "      <th>1</th>\n",
       "      <td>Excellent</td>\n",
       "      <td>56</td>\n",
       "    </tr>\n",
       "    <tr>\n",
       "      <th>2</th>\n",
       "      <td>Good</td>\n",
       "      <td>178</td>\n",
       "    </tr>\n",
       "    <tr>\n",
       "      <th>3</th>\n",
       "      <td>Poor</td>\n",
       "      <td>503</td>\n",
       "    </tr>\n",
       "  </tbody>\n",
       "</table>\n",
       "</div>"
      ],
      "text/plain": [
       "       Class  Count\n",
       "0    Average    272\n",
       "1  Excellent     56\n",
       "2       Good    178\n",
       "3       Poor    503"
      ]
     },
     "execution_count": 117,
     "metadata": {},
     "output_type": "execute_result"
    }
   ],
   "source": [
    "# Get the class names and count values\n",
    "class_labels = label_encoder.classes_\n",
    "class_counts = data['Target'].value_counts().sort_index()\n",
    "\n",
    "# Create a DataFrame with the count values\n",
    "count_values = pd.DataFrame({\n",
    "    \"Class\": class_labels,\n",
    "    \"Count\": class_counts.values\n",
    "})\n",
    "\n",
    "# Display the count values\n",
    "count_values"
   ]
  },
  {
   "cell_type": "code",
   "execution_count": 118,
   "metadata": {},
   "outputs": [
    {
     "data": {
      "text/html": [
       "<div>\n",
       "<style scoped>\n",
       "    .dataframe tbody tr th:only-of-type {\n",
       "        vertical-align: middle;\n",
       "    }\n",
       "\n",
       "    .dataframe tbody tr th {\n",
       "        vertical-align: top;\n",
       "    }\n",
       "\n",
       "    .dataframe thead th {\n",
       "        text-align: right;\n",
       "    }\n",
       "</style>\n",
       "<table border=\"1\" class=\"dataframe\">\n",
       "  <thead>\n",
       "    <tr style=\"text-align: right;\">\n",
       "      <th></th>\n",
       "      <th>Unnamed: 0</th>\n",
       "      <th>Adm_Year</th>\n",
       "      <th>Age</th>\n",
       "      <th>HSC_Pass_Year</th>\n",
       "      <th>Curr_Sem1</th>\n",
       "      <th>Study_Hours1</th>\n",
       "      <th>Study_Sessions1</th>\n",
       "      <th>SM_Hours1</th>\n",
       "      <th>Avg_Attendance1</th>\n",
       "      <th>Skill_Dev_Hours1</th>\n",
       "      <th>Prev_SGPA1</th>\n",
       "      <th>Curr_CGPA1</th>\n",
       "      <th>Completed_Credits1</th>\n",
       "      <th>Family_Income1</th>\n",
       "    </tr>\n",
       "  </thead>\n",
       "  <tbody>\n",
       "    <tr>\n",
       "      <th>0</th>\n",
       "      <td>7</td>\n",
       "      <td>2021.0</td>\n",
       "      <td>22.0</td>\n",
       "      <td>2019.0</td>\n",
       "      <td>4.0</td>\n",
       "      <td>2.0</td>\n",
       "      <td>2.0</td>\n",
       "      <td>2.0</td>\n",
       "      <td>100.0</td>\n",
       "      <td>1.0</td>\n",
       "      <td>3.80</td>\n",
       "      <td>3.64</td>\n",
       "      <td>35.0</td>\n",
       "      <td>32500.0</td>\n",
       "    </tr>\n",
       "    <tr>\n",
       "      <th>1</th>\n",
       "      <td>11</td>\n",
       "      <td>2021.0</td>\n",
       "      <td>22.0</td>\n",
       "      <td>2019.0</td>\n",
       "      <td>4.0</td>\n",
       "      <td>3.5</td>\n",
       "      <td>2.0</td>\n",
       "      <td>2.0</td>\n",
       "      <td>90.0</td>\n",
       "      <td>1.0</td>\n",
       "      <td>3.40</td>\n",
       "      <td>3.53</td>\n",
       "      <td>35.0</td>\n",
       "      <td>20000.0</td>\n",
       "    </tr>\n",
       "    <tr>\n",
       "      <th>2</th>\n",
       "      <td>15</td>\n",
       "      <td>2021.0</td>\n",
       "      <td>20.0</td>\n",
       "      <td>2020.0</td>\n",
       "      <td>4.0</td>\n",
       "      <td>2.0</td>\n",
       "      <td>1.0</td>\n",
       "      <td>1.0</td>\n",
       "      <td>95.0</td>\n",
       "      <td>3.0</td>\n",
       "      <td>3.93</td>\n",
       "      <td>3.89</td>\n",
       "      <td>35.0</td>\n",
       "      <td>30000.0</td>\n",
       "    </tr>\n",
       "    <tr>\n",
       "      <th>3</th>\n",
       "      <td>18</td>\n",
       "      <td>2021.0</td>\n",
       "      <td>21.0</td>\n",
       "      <td>2020.0</td>\n",
       "      <td>4.0</td>\n",
       "      <td>1.0</td>\n",
       "      <td>2.0</td>\n",
       "      <td>3.0</td>\n",
       "      <td>95.0</td>\n",
       "      <td>1.0</td>\n",
       "      <td>3.10</td>\n",
       "      <td>3.50</td>\n",
       "      <td>35.0</td>\n",
       "      <td>25000.0</td>\n",
       "    </tr>\n",
       "    <tr>\n",
       "      <th>4</th>\n",
       "      <td>20</td>\n",
       "      <td>2021.0</td>\n",
       "      <td>21.0</td>\n",
       "      <td>2019.0</td>\n",
       "      <td>4.0</td>\n",
       "      <td>3.0</td>\n",
       "      <td>2.0</td>\n",
       "      <td>2.0</td>\n",
       "      <td>96.0</td>\n",
       "      <td>1.0</td>\n",
       "      <td>3.81</td>\n",
       "      <td>3.65</td>\n",
       "      <td>34.0</td>\n",
       "      <td>30000.0</td>\n",
       "    </tr>\n",
       "    <tr>\n",
       "      <th>...</th>\n",
       "      <td>...</td>\n",
       "      <td>...</td>\n",
       "      <td>...</td>\n",
       "      <td>...</td>\n",
       "      <td>...</td>\n",
       "      <td>...</td>\n",
       "      <td>...</td>\n",
       "      <td>...</td>\n",
       "      <td>...</td>\n",
       "      <td>...</td>\n",
       "      <td>...</td>\n",
       "      <td>...</td>\n",
       "      <td>...</td>\n",
       "      <td>...</td>\n",
       "    </tr>\n",
       "    <tr>\n",
       "      <th>1004</th>\n",
       "      <td>1189</td>\n",
       "      <td>2021.0</td>\n",
       "      <td>20.0</td>\n",
       "      <td>2020.0</td>\n",
       "      <td>8.0</td>\n",
       "      <td>1.0</td>\n",
       "      <td>2.0</td>\n",
       "      <td>2.0</td>\n",
       "      <td>46.0</td>\n",
       "      <td>2.0</td>\n",
       "      <td>2.65</td>\n",
       "      <td>3.77</td>\n",
       "      <td>100.0</td>\n",
       "      <td>180000.0</td>\n",
       "    </tr>\n",
       "    <tr>\n",
       "      <th>1005</th>\n",
       "      <td>1190</td>\n",
       "      <td>2022.0</td>\n",
       "      <td>23.0</td>\n",
       "      <td>2020.0</td>\n",
       "      <td>8.0</td>\n",
       "      <td>4.0</td>\n",
       "      <td>4.0</td>\n",
       "      <td>4.0</td>\n",
       "      <td>100.0</td>\n",
       "      <td>2.0</td>\n",
       "      <td>2.50</td>\n",
       "      <td>2.22</td>\n",
       "      <td>18.0</td>\n",
       "      <td>200000.0</td>\n",
       "    </tr>\n",
       "    <tr>\n",
       "      <th>1006</th>\n",
       "      <td>1191</td>\n",
       "      <td>2021.0</td>\n",
       "      <td>22.0</td>\n",
       "      <td>2020.0</td>\n",
       "      <td>9.0</td>\n",
       "      <td>3.0</td>\n",
       "      <td>3.0</td>\n",
       "      <td>2.0</td>\n",
       "      <td>100.0</td>\n",
       "      <td>2.0</td>\n",
       "      <td>1.56</td>\n",
       "      <td>2.78</td>\n",
       "      <td>121.0</td>\n",
       "      <td>200000.0</td>\n",
       "    </tr>\n",
       "    <tr>\n",
       "      <th>1007</th>\n",
       "      <td>1192</td>\n",
       "      <td>2019.0</td>\n",
       "      <td>25.0</td>\n",
       "      <td>2018.0</td>\n",
       "      <td>11.0</td>\n",
       "      <td>5.0</td>\n",
       "      <td>3.0</td>\n",
       "      <td>3.0</td>\n",
       "      <td>100.0</td>\n",
       "      <td>4.0</td>\n",
       "      <td>1.40</td>\n",
       "      <td>2.52</td>\n",
       "      <td>144.0</td>\n",
       "      <td>210000.0</td>\n",
       "    </tr>\n",
       "    <tr>\n",
       "      <th>1008</th>\n",
       "      <td>1193</td>\n",
       "      <td>2018.0</td>\n",
       "      <td>23.0</td>\n",
       "      <td>2017.0</td>\n",
       "      <td>11.0</td>\n",
       "      <td>3.0</td>\n",
       "      <td>2.0</td>\n",
       "      <td>5.0</td>\n",
       "      <td>100.0</td>\n",
       "      <td>1.0</td>\n",
       "      <td>1.34</td>\n",
       "      <td>2.88</td>\n",
       "      <td>88.0</td>\n",
       "      <td>250000.0</td>\n",
       "    </tr>\n",
       "  </tbody>\n",
       "</table>\n",
       "<p>1009 rows × 14 columns</p>\n",
       "</div>"
      ],
      "text/plain": [
       "      Unnamed: 0  Adm_Year   Age  HSC_Pass_Year  Curr_Sem1  Study_Hours1  \\\n",
       "0              7    2021.0  22.0         2019.0        4.0           2.0   \n",
       "1             11    2021.0  22.0         2019.0        4.0           3.5   \n",
       "2             15    2021.0  20.0         2020.0        4.0           2.0   \n",
       "3             18    2021.0  21.0         2020.0        4.0           1.0   \n",
       "4             20    2021.0  21.0         2019.0        4.0           3.0   \n",
       "...          ...       ...   ...            ...        ...           ...   \n",
       "1004        1189    2021.0  20.0         2020.0        8.0           1.0   \n",
       "1005        1190    2022.0  23.0         2020.0        8.0           4.0   \n",
       "1006        1191    2021.0  22.0         2020.0        9.0           3.0   \n",
       "1007        1192    2019.0  25.0         2018.0       11.0           5.0   \n",
       "1008        1193    2018.0  23.0         2017.0       11.0           3.0   \n",
       "\n",
       "      Study_Sessions1  SM_Hours1  Avg_Attendance1  Skill_Dev_Hours1  \\\n",
       "0                 2.0        2.0            100.0               1.0   \n",
       "1                 2.0        2.0             90.0               1.0   \n",
       "2                 1.0        1.0             95.0               3.0   \n",
       "3                 2.0        3.0             95.0               1.0   \n",
       "4                 2.0        2.0             96.0               1.0   \n",
       "...               ...        ...              ...               ...   \n",
       "1004              2.0        2.0             46.0               2.0   \n",
       "1005              4.0        4.0            100.0               2.0   \n",
       "1006              3.0        2.0            100.0               2.0   \n",
       "1007              3.0        3.0            100.0               4.0   \n",
       "1008              2.0        5.0            100.0               1.0   \n",
       "\n",
       "      Prev_SGPA1  Curr_CGPA1  Completed_Credits1  Family_Income1  \n",
       "0           3.80        3.64                35.0         32500.0  \n",
       "1           3.40        3.53                35.0         20000.0  \n",
       "2           3.93        3.89                35.0         30000.0  \n",
       "3           3.10        3.50                35.0         25000.0  \n",
       "4           3.81        3.65                34.0         30000.0  \n",
       "...          ...         ...                 ...             ...  \n",
       "1004        2.65        3.77               100.0        180000.0  \n",
       "1005        2.50        2.22                18.0        200000.0  \n",
       "1006        1.56        2.78               121.0        200000.0  \n",
       "1007        1.40        2.52               144.0        210000.0  \n",
       "1008        1.34        2.88                88.0        250000.0  \n",
       "\n",
       "[1009 rows x 14 columns]"
      ]
     },
     "execution_count": 118,
     "metadata": {},
     "output_type": "execute_result"
    }
   ],
   "source": [
    "# Select features for classification (exclude non-numeric / irrelevant columns)\n",
    "features = data.select_dtypes(include=['float64', 'int64'])\n",
    "features"
   ]
  },
  {
   "cell_type": "code",
   "execution_count": 119,
   "metadata": {},
   "outputs": [],
   "source": [
    "# Standardize the features\n",
    "scaler = StandardScaler()\n",
    "X = scaler.fit_transform(features)\n",
    "y = data['Target']"
   ]
  },
  {
   "cell_type": "code",
   "execution_count": 120,
   "metadata": {},
   "outputs": [],
   "source": [
    "# Split the dataset into training and testing (70% train, 30% test)\n",
    "X_train, X_test, y_train, y_test = train_test_split(X, y, test_size=0.3, random_state=42)"
   ]
  },
  {
   "cell_type": "markdown",
   "metadata": {},
   "source": [
    "## Step 3: Model Training and First Evaluation"
   ]
  },
  {
   "cell_type": "code",
   "execution_count": 121,
   "metadata": {},
   "outputs": [],
   "source": [
    "# Initialize classifiers\n",
    "logistic_regression = LogisticRegression(solver='saga', random_state=0)\n",
    "svm_classifier = SVC(kernel='rbf',random_state=0)\n",
    "mlp_classifier = MLPClassifier(random_state=0)"
   ]
  },
  {
   "cell_type": "code",
   "execution_count": 122,
   "metadata": {},
   "outputs": [
    {
     "name": "stderr",
     "output_type": "stream",
     "text": [
      "c:\\Users\\kuzmi\\AppData\\Local\\Programs\\Python\\Python312\\Lib\\site-packages\\sklearn\\linear_model\\_sag.py:349: ConvergenceWarning: The max_iter was reached which means the coef_ did not converge\n",
      "  warnings.warn(\n",
      "c:\\Users\\kuzmi\\AppData\\Local\\Programs\\Python\\Python312\\Lib\\site-packages\\sklearn\\neural_network\\_multilayer_perceptron.py:690: ConvergenceWarning: Stochastic Optimizer: Maximum iterations (200) reached and the optimization hasn't converged yet.\n",
      "  warnings.warn(\n"
     ]
    }
   ],
   "source": [
    "# Train the models\n",
    "logistic_regression.fit(X_train, y_train)\n",
    "svm_classifier.fit(X_train, y_train)\n",
    "mlp_classifier.fit(X_train, y_train);"
   ]
  },
  {
   "cell_type": "code",
   "execution_count": 123,
   "metadata": {},
   "outputs": [],
   "source": [
    "# Make predictions\n",
    "y_pred_lr = logistic_regression.predict(X_test)\n",
    "y_pred_svm = svm_classifier.predict(X_test)\n",
    "y_pred_mlp = mlp_classifier.predict(X_test)"
   ]
  },
  {
   "cell_type": "code",
   "execution_count": 124,
   "metadata": {},
   "outputs": [],
   "source": [
    "# Evaluate the models\n",
    "results = {\n",
    "    \"Model\": [\"Logistic Regression\", \"SVM\", \"MLP\"],\n",
    "    \"Accuracy\": [\n",
    "        accuracy_score(y_test, y_pred_lr),\n",
    "        accuracy_score(y_test, y_pred_svm),\n",
    "        accuracy_score(y_test, y_pred_mlp),\n",
    "    ]\n",
    "}\n",
    "\n",
    "# Generate classification reports\n",
    "report_lr = classification_report(y_test, y_pred_lr, target_names=class_names)\n",
    "report_svm = classification_report(y_test, y_pred_svm, target_names=class_names)\n",
    "report_mlp = classification_report(y_test, y_pred_mlp, target_names=class_names)\n",
    "\n",
    "# Prepare a DataFrame for model comparison results\n",
    "results_df = pd.DataFrame({\n",
    "    \"Model\": [\"Logistic Regression\", \"SVM\", \"MLP\"],\n",
    "    \"Accuracy\": [\n",
    "        accuracy_score(y_test, y_pred_lr),\n",
    "        accuracy_score(y_test, y_pred_svm),\n",
    "        accuracy_score(y_test, y_pred_mlp),\n",
    "    ]\n",
    "})"
   ]
  },
  {
   "cell_type": "code",
   "execution_count": 125,
   "metadata": {},
   "outputs": [
    {
     "name": "stdout",
     "output_type": "stream",
     "text": [
      "Model Comparison:\n",
      "                  Model  Accuracy\n",
      "0  Logistic Regression  0.768977\n",
      "1                  SVM  0.752475\n",
      "2                  MLP  0.788779\n"
     ]
    }
   ],
   "source": [
    "print(\"Model Comparison:\\n\", results_df)"
   ]
  },
  {
   "cell_type": "code",
   "execution_count": 126,
   "metadata": {},
   "outputs": [
    {
     "name": "stdout",
     "output_type": "stream",
     "text": [
      "\n",
      "Logistic Regression Classification Report:\n",
      "               precision    recall  f1-score   support\n",
      "\n",
      "     Average       0.59      0.60      0.60        73\n",
      "   Excellent       0.71      0.42      0.53        12\n",
      "        Good       0.66      0.65      0.65        65\n",
      "        Poor       0.90      0.93      0.91       153\n",
      "\n",
      "    accuracy                           0.77       303\n",
      "   macro avg       0.72      0.65      0.67       303\n",
      "weighted avg       0.77      0.77      0.77       303\n",
      "\n"
     ]
    }
   ],
   "source": [
    "print(\"\\nLogistic Regression Classification Report:\\n\", report_lr)"
   ]
  },
  {
   "cell_type": "code",
   "execution_count": 127,
   "metadata": {},
   "outputs": [
    {
     "name": "stdout",
     "output_type": "stream",
     "text": [
      "\n",
      "SVM Classification Report:\n",
      "               precision    recall  f1-score   support\n",
      "\n",
      "     Average       0.58      0.63      0.61        73\n",
      "   Excellent       0.40      0.33      0.36        12\n",
      "        Good       0.65      0.60      0.62        65\n",
      "        Poor       0.90      0.91      0.91       153\n",
      "\n",
      "    accuracy                           0.75       303\n",
      "   macro avg       0.63      0.62      0.62       303\n",
      "weighted avg       0.75      0.75      0.75       303\n",
      "\n"
     ]
    }
   ],
   "source": [
    "print(\"\\nSVM Classification Report:\\n\", report_svm)"
   ]
  },
  {
   "cell_type": "code",
   "execution_count": 128,
   "metadata": {},
   "outputs": [
    {
     "name": "stdout",
     "output_type": "stream",
     "text": [
      "\n",
      "MLP Classification Report:\n",
      "               precision    recall  f1-score   support\n",
      "\n",
      "     Average       0.64      0.63      0.63        73\n",
      "   Excellent       0.43      0.50      0.46        12\n",
      "        Good       0.69      0.66      0.68        65\n",
      "        Poor       0.93      0.94      0.94       153\n",
      "\n",
      "    accuracy                           0.79       303\n",
      "   macro avg       0.67      0.68      0.68       303\n",
      "weighted avg       0.79      0.79      0.79       303\n",
      "\n"
     ]
    }
   ],
   "source": [
    "print(\"\\nMLP Classification Report:\\n\", report_mlp)"
   ]
  },
  {
   "cell_type": "code",
   "execution_count": 129,
   "metadata": {},
   "outputs": [
    {
     "name": "stdout",
     "output_type": "stream",
     "text": [
      "[[ 44   2  12  15]\n",
      " [  0   5   7   0]\n",
      " [ 22   0  42   1]\n",
      " [  8   0   3 142]]\n",
      "[[ 46   0  12  15]\n",
      " [  1   4   7   0]\n",
      " [ 20   6  39   0]\n",
      " [ 12   0   2 139]]\n",
      "[[ 46   3  13  11]\n",
      " [  0   6   6   0]\n",
      " [ 17   5  43   0]\n",
      " [  9   0   0 144]]\n"
     ]
    },
    {
     "data": {
      "image/png": "[encoded data removed]",
      "text/plain": [
       "<Figure size 1800x500 with 6 Axes>"
      ]
     },
     "metadata": {},
     "output_type": "display_data"
    }
   ],
   "source": [
    "# Confusion matrices for each model \n",
    "fig, axes = plt.subplots(1, 3, figsize=(18, 5))\n",
    "\n",
    "\n",
    "# Logistic Regression\n",
    "sns.heatmap(confusion_matrix(y_test, y_pred_lr), annot=True, fmt=\"d\", ax=axes[0], cmap=\"Blues\",\n",
    "            xticklabels=class_names, yticklabels=class_names)\n",
    "axes[0].set_title(\"Logistic Regression\")\n",
    "axes[0].set_xlabel(\"Predicted\")\n",
    "axes[0].set_ylabel(\"True\")\n",
    "\n",
    "print(confusion_matrix(y_test, y_pred_lr))\n",
    "\n",
    "# SVM\n",
    "sns.heatmap(confusion_matrix(y_test, y_pred_svm), annot=True, fmt=\"d\", ax=axes[1], cmap=\"Blues\",\n",
    "            xticklabels=class_names, yticklabels=class_names)\n",
    "axes[1].set_title(\"SVM\")\n",
    "axes[1].set_xlabel(\"Predicted\")\n",
    "axes[1].set_ylabel(\"True\")\n",
    "\n",
    "print(confusion_matrix(y_test, y_pred_svm))\n",
    "\n",
    "# MLP\n",
    "sns.heatmap(confusion_matrix(y_test, y_pred_mlp), annot=True, fmt=\"d\", ax=axes[2], cmap=\"Blues\",\n",
    "            xticklabels=class_names, yticklabels=class_names)\n",
    "axes[2].set_title(\"MLP Classifier\")\n",
    "axes[2].set_xlabel(\"Predicted\")\n",
    "axes[2].set_ylabel(\"True\")\n",
    "\n",
    "print(confusion_matrix(y_test, y_pred_mlp))\n",
    "\n",
    "plt.tight_layout()\n"
   ]
  },
  {
   "cell_type": "markdown",
   "metadata": {},
   "source": [
    "## Step 4: Hyperparameter Tuning"
   ]
  },
  {
   "cell_type": "code",
   "execution_count": 130,
   "metadata": {},
   "outputs": [
    {
     "name": "stderr",
     "output_type": "stream",
     "text": [
      "c:\\Users\\kuzmi\\AppData\\Local\\Programs\\Python\\Python312\\Lib\\site-packages\\sklearn\\linear_model\\_sag.py:349: ConvergenceWarning: The max_iter was reached which means the coef_ did not converge\n",
      "  warnings.warn(\n"
     ]
    },
    {
     "name": "stdout",
     "output_type": "stream",
     "text": [
      "Best Parameters for Logistic Regression: {'C': 1}\n",
      "Best Cross-Validation Score for Logistic Regression: 0.753601038857257\n",
      "Best Parameters for SVM: {'C': 10}\n",
      "Best Cross-Validation Score for SVM: 0.8272100689241834\n",
      "Best Parameters for MLP: {'hidden_layer_sizes': (128, 64, 32)}\n",
      "Best Cross-Validation Score for MLP: 0.8385376086305063\n"
     ]
    }
   ],
   "source": [
    "# Define parameter grid\n",
    "param_grid = {'C': [0.01, 0.1, 1, 10, 20, 50, 100]}\n",
    "param_grid_mlp = {\n",
    "    'hidden_layer_sizes': [(128,), (64, 64), (128, 64), (128, 64, 32)]}\n",
    "\n",
    "# Initialize classifiers\n",
    "logistic_regression = LogisticRegression(solver='saga', random_state=0)\n",
    "svm_classifier = SVC(random_state=0)\n",
    "mlp_classifier = MLPClassifier(random_state=0)\n",
    "\n",
    "# Perform Grid Search for Logistic Regression\n",
    "grid_search_lr = GridSearchCV(logistic_regression, param_grid, cv=5, scoring='accuracy', n_jobs=-1)\n",
    "grid_search_lr.fit(X_train, y_train)\n",
    "\n",
    "# Perform Grid Search for SVM\n",
    "grid_search_svm = GridSearchCV(svm_classifier, param_grid, cv=5, scoring='accuracy', n_jobs=-1)\n",
    "grid_search_svm.fit(X_train, y_train)\n",
    "\n",
    "# Perform Grid Search for MLP\n",
    "grid_search_mlp = GridSearchCV(mlp_classifier, param_grid_mlp, cv=5, scoring='accuracy', n_jobs=-1)\n",
    "grid_search_mlp.fit(X_train, y_train)\n",
    "\n",
    "# Print the best parameters and best scores\n",
    "print(\"Best Parameters for Logistic Regression:\", grid_search_lr.best_params_)\n",
    "print(\"Best Cross-Validation Score for Logistic Regression:\", grid_search_lr.best_score_)\n",
    "\n",
    "print(\"Best Parameters for SVM:\", grid_search_svm.best_params_)\n",
    "print(\"Best Cross-Validation Score for SVM:\", grid_search_svm.best_score_)\n",
    "\n",
    "print(\"Best Parameters for MLP:\", grid_search_mlp.best_params_)\n",
    "print(\"Best Cross-Validation Score for MLP:\", grid_search_mlp.best_score_)\n"
   ]
  },
  {
   "cell_type": "markdown",
   "metadata": {},
   "source": [
    "## Step 5: Model Retraining and Second Evaluation"
   ]
  },
  {
   "cell_type": "code",
   "execution_count": 131,
   "metadata": {},
   "outputs": [
    {
     "name": "stderr",
     "output_type": "stream",
     "text": [
      "c:\\Users\\kuzmi\\AppData\\Local\\Programs\\Python\\Python312\\Lib\\site-packages\\sklearn\\linear_model\\_sag.py:349: ConvergenceWarning: The max_iter was reached which means the coef_ did not converge\n",
      "  warnings.warn(\n"
     ]
    }
   ],
   "source": [
    "logistic_regression = LogisticRegression(solver='saga', C=1, random_state=0)\n",
    "svm_classifier = SVC(kernel='rbf', C=10, random_state=0)\n",
    "mlp_classifier = MLPClassifier(hidden_layer_sizes=(128, 64, 32), random_state=0)\n",
    "\n",
    "logistic_regression.fit(X_train, y_train)\n",
    "svm_classifier.fit(X_train, y_train)\n",
    "mlp_classifier.fit(X_train, y_train)\n",
    "\n",
    "y_pred_lr = logistic_regression.predict(X_test)\n",
    "y_pred_svm = svm_classifier.predict(X_test)\n",
    "y_pred_mlp = mlp_classifier.predict(X_test)"
   ]
  },
  {
   "cell_type": "code",
   "execution_count": 132,
   "metadata": {},
   "outputs": [],
   "source": [
    "# Evaluate the models again\n",
    "results = {\n",
    "    \"Model\": [\"Logistic Regression\", \"SVM\", \"MLP\"],\n",
    "    \"Accuracy\": [\n",
    "        accuracy_score(y_test, y_pred_lr),\n",
    "        accuracy_score(y_test, y_pred_svm),\n",
    "        accuracy_score(y_test, y_pred_mlp),\n",
    "    ]\n",
    "}\n",
    "\n",
    "# Generate classification reports\n",
    "report_lr = classification_report(y_test, y_pred_lr, target_names=class_names)\n",
    "report_svm = classification_report(y_test, y_pred_svm, target_names=class_names)\n",
    "report_mlp = classification_report(y_test, y_pred_mlp, target_names=class_names)\n",
    "\n",
    "# Prepare a DataFrame for model comparison results\n",
    "results_df = pd.DataFrame({\n",
    "    \"Model\": [\"Logistic Regression\", \"SVM\", \"MLP\"],\n",
    "    \"Accuracy\": [\n",
    "        accuracy_score(y_test, y_pred_lr),\n",
    "        accuracy_score(y_test, y_pred_svm),\n",
    "        accuracy_score(y_test, y_pred_mlp),\n",
    "    ]\n",
    "})"
   ]
  },
  {
   "cell_type": "code",
   "execution_count": 133,
   "metadata": {},
   "outputs": [
    {
     "name": "stdout",
     "output_type": "stream",
     "text": [
      "Model Comparison:\n",
      "                  Model  Accuracy\n",
      "0  Logistic Regression  0.768977\n",
      "1                  SVM  0.798680\n",
      "2                  MLP  0.828383\n"
     ]
    }
   ],
   "source": [
    "# Print the model comparison table\n",
    "print(\"Model Comparison:\\n\", results_df)"
   ]
  },
  {
   "cell_type": "code",
   "execution_count": 134,
   "metadata": {},
   "outputs": [
    {
     "name": "stdout",
     "output_type": "stream",
     "text": [
      "\n",
      "Logistic Regression Classification Report:\n",
      "               precision    recall  f1-score   support\n",
      "\n",
      "     Average       0.59      0.60      0.60        73\n",
      "   Excellent       0.71      0.42      0.53        12\n",
      "        Good       0.66      0.65      0.65        65\n",
      "        Poor       0.90      0.93      0.91       153\n",
      "\n",
      "    accuracy                           0.77       303\n",
      "   macro avg       0.72      0.65      0.67       303\n",
      "weighted avg       0.77      0.77      0.77       303\n",
      "\n"
     ]
    }
   ],
   "source": [
    "print(\"\\nLogistic Regression Classification Report:\\n\", report_lr)"
   ]
  },
  {
   "cell_type": "code",
   "execution_count": 135,
   "metadata": {},
   "outputs": [
    {
     "name": "stdout",
     "output_type": "stream",
     "text": [
      "\n",
      "SVM Classification Report:\n",
      "               precision    recall  f1-score   support\n",
      "\n",
      "     Average       0.64      0.71      0.68        73\n",
      "   Excellent       0.50      0.58      0.54        12\n",
      "        Good       0.74      0.66      0.70        65\n",
      "        Poor       0.93      0.92      0.92       153\n",
      "\n",
      "    accuracy                           0.80       303\n",
      "   macro avg       0.70      0.72      0.71       303\n",
      "weighted avg       0.80      0.80      0.80       303\n",
      "\n"
     ]
    }
   ],
   "source": [
    "print(\"\\nSVM Classification Report:\\n\", report_svm)"
   ]
  },
  {
   "cell_type": "code",
   "execution_count": 136,
   "metadata": {},
   "outputs": [
    {
     "name": "stdout",
     "output_type": "stream",
     "text": [
      "\n",
      "MLP Classification Report:\n",
      "               precision    recall  f1-score   support\n",
      "\n",
      "     Average       0.68      0.68      0.68        73\n",
      "   Excellent       0.71      0.83      0.77        12\n",
      "        Good       0.79      0.74      0.76        65\n",
      "        Poor       0.92      0.93      0.93       153\n",
      "\n",
      "    accuracy                           0.83       303\n",
      "   macro avg       0.78      0.80      0.79       303\n",
      "weighted avg       0.83      0.83      0.83       303\n",
      "\n"
     ]
    }
   ],
   "source": [
    "print(\"\\nMLP Classification Report:\\n\", report_mlp)"
   ]
  },
  {
   "cell_type": "code",
   "execution_count": 137,
   "metadata": {},
   "outputs": [
    {
     "name": "stdout",
     "output_type": "stream",
     "text": [
      "[[ 44   2  12  15]\n",
      " [  0   5   7   0]\n",
      " [ 22   0  42   1]\n",
      " [  8   0   3 142]]\n",
      "[[ 52   0  11  10]\n",
      " [  1   7   4   0]\n",
      " [ 15   7  43   0]\n",
      " [ 13   0   0 140]]\n",
      "[[ 50   0  11  12]\n",
      " [  0  10   2   0]\n",
      " [ 13   4  48   0]\n",
      " [ 10   0   0 143]]\n"
     ]
    },
    {
     "data": {
      "image/png": "[encoded data removed]",
      "text/plain": [
       "<Figure size 1800x500 with 6 Axes>"
      ]
     },
     "metadata": {},
     "output_type": "display_data"
    }
   ],
   "source": [
    "# Confusion matrices for each model \n",
    "fig, axes = plt.subplots(1, 3, figsize=(18, 5))\n",
    "\n",
    "\n",
    "# Logistic Regression\n",
    "sns.heatmap(confusion_matrix(y_test, y_pred_lr), annot=True, fmt=\"d\", ax=axes[0], cmap=\"Blues\",\n",
    "            xticklabels=class_names, yticklabels=class_names)\n",
    "axes[0].set_title(\"Logistic Regression\")\n",
    "axes[0].set_xlabel(\"Predicted\")\n",
    "axes[0].set_ylabel(\"True\")\n",
    "\n",
    "print(confusion_matrix(y_test, y_pred_lr))\n",
    "\n",
    "# SVM\n",
    "sns.heatmap(confusion_matrix(y_test, y_pred_svm), annot=True, fmt=\"d\", ax=axes[1], cmap=\"Blues\",\n",
    "            xticklabels=class_names, yticklabels=class_names)\n",
    "axes[1].set_title(\"SVM\")\n",
    "axes[1].set_xlabel(\"Predicted\")\n",
    "axes[1].set_ylabel(\"True\")\n",
    "\n",
    "print(confusion_matrix(y_test, y_pred_svm))\n",
    "\n",
    "# MLP\n",
    "sns.heatmap(confusion_matrix(y_test, y_pred_mlp), annot=True, fmt=\"d\", ax=axes[2], cmap=\"Blues\",\n",
    "            xticklabels=class_names, yticklabels=class_names)\n",
    "axes[2].set_title(\"MLP Classifier\")\n",
    "axes[2].set_xlabel(\"Predicted\")\n",
    "axes[2].set_ylabel(\"True\")\n",
    "\n",
    "print(confusion_matrix(y_test, y_pred_mlp))\n",
    "\n",
    "plt.tight_layout()"
   ]
  },
  {
   "cell_type": "markdown",
   "metadata": {},
   "source": [
    "## Step 6: Analysis and Discussion"
   ]
  },
  {
   "cell_type": "markdown",
   "metadata": {},
   "source": [
    "### Model Performance Comparison: Before and After Tuning\n",
    "\n",
    "#### Accuracy\n",
    "- **Before Tuning**:\n",
    "  - Logistic Regression: **77%**\n",
    "  - SVM: **75%**\n",
    "  - MLP: **79%**\n",
    "- **After Tuning**:\n",
    "  - Logistic Regression: **77%** (no change)\n",
    "  - SVM: **80%** (+5%)\n",
    "  - MLP: **83%** (+4%)\n",
    "\n",
    "#### Confusion Matrix Analysis\n",
    "- **Logistic Regression**: No improvement after tuning.\n",
    "- **SVM**: Reduced misclassifications in \"Average\" and \"Good.\"\n",
    "- **MLP**: Significant improvement in \"Excellent\" and \"Good\" classifications.\n",
    "\n",
    "#### Summary\n",
    "- **Best Overall Model (After Tuning)**: **MLP** (highest accuracy: 83%, balanced performance).\n",
    "- **Most Improved Model**: **SVM** (+5% accuracy, better class-level metrics).\n",
    "- **Least Improved Model**: **Logistic Regression** (no changes).\n"
   ]
  },
  {
   "cell_type": "markdown",
   "metadata": {},
   "source": [
    "\n",
    "### Most Misclassified Target Class\n",
    "- **\"Average\"** class had the most misclassifications across all models, often confused with \"Poor\" or \"Good.\"\n",
    "\n",
    "#### Potential causes:\n",
    "1. **Class Overlap**: Features of \"Average\" overlap with \"Good\" and \"Poor.\"\n",
    "2. **Class Imbalance**: Fewer \"Excellent\" and dominant \"Poor\" affect decision boundaries.\n",
    "3. **Feature Representation**: Features may fail to capture class distinctions.\n",
    "4. **Model Bias**: Regularization or decision boundaries skewed toward dominant classes."
   ]
  }
 ],
 "metadata": {
  "kernelspec": {
   "display_name": "Python 3",
   "language": "python",
   "name": "python3"
  },
  "language_info": {
   "codemirror_mode": {
    "name": "ipython",
    "version": 3
   },
   "file_extension": ".py",
   "mimetype": "text/x-python",
   "name": "python",
   "nbconvert_exporter": "python",
   "pygments_lexer": "ipython3",
   "version": "3.12.0"
  }
 },
 "nbformat": 4,
 "nbformat_minor": 2
}
